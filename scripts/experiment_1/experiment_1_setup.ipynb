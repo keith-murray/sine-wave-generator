{
 "cells": [
  {
   "cell_type": "markdown",
   "id": "f3c5e758-8444-451d-a1ac-351490ab43a9",
   "metadata": {},
   "source": [
    "# Experiment 1: Smoke Test\n",
    "The purpose of this experiment is to test our training and analysis pipeline. We expect a few errors to occur."
   ]
  },
  {
   "cell_type": "markdown",
   "id": "4c17f18d-4f4c-41d5-b4bd-b17b46887146",
   "metadata": {},
   "source": [
    "## Imports"
   ]
  },
  {
   "cell_type": "code",
   "execution_count": 1,
   "id": "2f2304d9-9001-431f-810f-90087b10cf5d",
   "metadata": {},
   "outputs": [],
   "source": [
    "import json\n",
    "import os"
   ]
  },
  {
   "cell_type": "markdown",
   "id": "27a2e19d-bba7-4aac-8e6f-82f05f4cd2cb",
   "metadata": {},
   "source": [
    "## File and JSON generation"
   ]
  },
  {
   "cell_type": "code",
   "execution_count": 2,
   "id": "b4939bd1-9a54-4581-801d-0500adb89457",
   "metadata": {},
   "outputs": [],
   "source": [
    "experiment_folder = \"../../results/experiment_1\""
   ]
  },
  {
   "cell_type": "code",
   "execution_count": 3,
   "id": "d46da405-bfce-4496-8a95-a55e8489bd7e",
   "metadata": {},
   "outputs": [],
   "source": [
    "for task_id in range(48):\n",
    "    task_folder = os.path.join(experiment_folder, f\"task_{task_id}\")\n",
    "    \n",
    "    os.makedirs(task_folder, exist_ok=True)\n",
    "    \n",
    "    params = {\n",
    "        'epochs': 25000,\n",
    "        'freqs': [0.6,0.5,0.4,0.3,0.2,0.1],\n",
    "        'time': 100,\n",
    "        'seed': task_id,\n",
    "    }\n",
    "    \n",
    "    json_path = os.path.join(task_folder, \"params.json\")\n",
    "    \n",
    "    with open(json_path, 'w') as f:\n",
    "        json.dump(params, f)"
   ]
  },
  {
   "cell_type": "code",
   "execution_count": 4,
   "id": "6417fab8-1225-40b8-a9fd-2a97af4c0d71",
   "metadata": {},
   "outputs": [
    {
     "data": {
      "text/plain": [
       "47"
      ]
     },
     "execution_count": 4,
     "metadata": {},
     "output_type": "execute_result"
    }
   ],
   "source": [
    "task_id"
   ]
  }
 ],
 "metadata": {
  "kernelspec": {
   "display_name": "Python 3 (ipykernel)",
   "language": "python",
   "name": "python3"
  },
  "language_info": {
   "codemirror_mode": {
    "name": "ipython",
    "version": 3
   },
   "file_extension": ".py",
   "mimetype": "text/x-python",
   "name": "python",
   "nbconvert_exporter": "python",
   "pygments_lexer": "ipython3",
   "version": "3.9.16"
  }
 },
 "nbformat": 4,
 "nbformat_minor": 5
}
